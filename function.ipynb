{
 "cells": [
  {
   "cell_type": "code",
   "execution_count": 1,
   "id": "7d4d446e-477c-46fa-9fd6-c1e07b11647a",
   "metadata": {},
   "outputs": [],
   "source": [
    "# today i am learing about function in python"
   ]
  },
  {
   "cell_type": "code",
   "execution_count": 4,
   "id": "0135a64c-a27c-4220-9c6f-3edc2b8212d1",
   "metadata": {},
   "outputs": [],
   "source": [
    "def test():\n",
    "    pass"
   ]
  },
  {
   "cell_type": "code",
   "execution_count": 5,
   "id": "7393530c-0fbf-4590-8c50-65e927f6d957",
   "metadata": {},
   "outputs": [],
   "source": [
    "def test1 ():\n",
    "    print (\"this is my very very first function\")"
   ]
  },
  {
   "cell_type": "code",
   "execution_count": 6,
   "id": "e9c51b46-645a-461c-aec0-d52fd95b41eb",
   "metadata": {},
   "outputs": [
    {
     "name": "stdout",
     "output_type": "stream",
     "text": [
      "this is my very very first function\n"
     ]
    }
   ],
   "source": [
    "test1()"
   ]
  },
  {
   "cell_type": "code",
   "execution_count": 7,
   "id": "41dce22a-d64b-4b07-a008-a55df2527dec",
   "metadata": {},
   "outputs": [
    {
     "ename": "SyntaxError",
     "evalue": "cannot assign to function call here. Maybe you meant '==' instead of '='? (1209620711.py, line 1)",
     "output_type": "error",
     "traceback": [
      "\u001b[0;36m  Cell \u001b[0;32mIn[7], line 1\u001b[0;36m\u001b[0m\n\u001b[0;31m    test1() = \"soumen\"\u001b[0m\n\u001b[0m    ^\u001b[0m\n\u001b[0;31mSyntaxError\u001b[0m\u001b[0;31m:\u001b[0m cannot assign to function call here. Maybe you meant '==' instead of '='?\n"
     ]
    }
   ],
   "source": [
    "test1() = \"soumen\""
   ]
  },
  {
   "cell_type": "code",
   "execution_count": 8,
   "id": "d3a4ea70-661f-431b-887c-a42789e804ed",
   "metadata": {},
   "outputs": [],
   "source": [
    "def test2 ():\n",
    "    return \"this is my very first return\""
   ]
  },
  {
   "cell_type": "code",
   "execution_count": 9,
   "id": "aefe0498-55d1-4f95-91c6-7b5011fb86ad",
   "metadata": {},
   "outputs": [
    {
     "data": {
      "text/plain": [
       "'this is my very first return'"
      ]
     },
     "execution_count": 9,
     "metadata": {},
     "output_type": "execute_result"
    }
   ],
   "source": [
    "test2()"
   ]
  },
  {
   "cell_type": "code",
   "execution_count": 12,
   "id": "3a1ba635-1f56-44e3-9b68-bfcabe98cb11",
   "metadata": {},
   "outputs": [
    {
     "data": {
      "text/plain": [
       "'this is my very first return soumen'"
      ]
     },
     "execution_count": 12,
     "metadata": {},
     "output_type": "execute_result"
    }
   ],
   "source": [
    "test2() + \" soumen\""
   ]
  },
  {
   "cell_type": "code",
   "execution_count": 13,
   "id": "a8c74e14-1c0e-4e8a-8a14-540e20bd8e74",
   "metadata": {},
   "outputs": [],
   "source": [
    "def test3():\n",
    "    return \"soumen\", 23, 345.56, [1,2,3,3]"
   ]
  },
  {
   "cell_type": "code",
   "execution_count": 14,
   "id": "3df29d59-f754-4cf1-8536-3ab0b63f8898",
   "metadata": {},
   "outputs": [
    {
     "data": {
      "text/plain": [
       "('soumen', 23, 345.56, [1, 2, 3, 3])"
      ]
     },
     "execution_count": 14,
     "metadata": {},
     "output_type": "execute_result"
    }
   ],
   "source": [
    "test3()"
   ]
  },
  {
   "cell_type": "code",
   "execution_count": 21,
   "id": "ea408a5f-3ba6-4944-bed3-ad488868d68a",
   "metadata": {},
   "outputs": [],
   "source": [
    "#store all the data in different variable"
   ]
  },
  {
   "cell_type": "code",
   "execution_count": 15,
   "id": "7df4aed6-b8a9-44e4-926c-bc4254f363cd",
   "metadata": {},
   "outputs": [],
   "source": [
    "a,b,c,d = test3()"
   ]
  },
  {
   "cell_type": "code",
   "execution_count": 17,
   "id": "0223a646-44a2-4870-a541-48b871f6aa46",
   "metadata": {},
   "outputs": [
    {
     "data": {
      "text/plain": [
       "'soumen'"
      ]
     },
     "execution_count": 17,
     "metadata": {},
     "output_type": "execute_result"
    }
   ],
   "source": [
    "a"
   ]
  },
  {
   "cell_type": "code",
   "execution_count": 18,
   "id": "a79de96f-8622-4e5e-9361-741e48ba2cb2",
   "metadata": {},
   "outputs": [
    {
     "data": {
      "text/plain": [
       "23"
      ]
     },
     "execution_count": 18,
     "metadata": {},
     "output_type": "execute_result"
    }
   ],
   "source": [
    "b"
   ]
  },
  {
   "cell_type": "code",
   "execution_count": 19,
   "id": "35b0d79f-5b91-40e3-b332-223f800c5474",
   "metadata": {},
   "outputs": [
    {
     "data": {
      "text/plain": [
       "345.56"
      ]
     },
     "execution_count": 19,
     "metadata": {},
     "output_type": "execute_result"
    }
   ],
   "source": [
    "c"
   ]
  },
  {
   "cell_type": "code",
   "execution_count": 20,
   "id": "9ab03d05-71ce-4997-bae2-8e18af66ec4a",
   "metadata": {},
   "outputs": [
    {
     "data": {
      "text/plain": [
       "[1, 2, 3, 3]"
      ]
     },
     "execution_count": 20,
     "metadata": {},
     "output_type": "execute_result"
    }
   ],
   "source": [
    "d"
   ]
  },
  {
   "cell_type": "code",
   "execution_count": 22,
   "id": "38e39d80-fed3-4d13-87b2-dd78a3f62d87",
   "metadata": {},
   "outputs": [],
   "source": [
    "#different type variable declaration"
   ]
  },
  {
   "cell_type": "code",
   "execution_count": 23,
   "id": "66189969-68ee-4ea1-abb8-c77ba2508117",
   "metadata": {},
   "outputs": [],
   "source": [
    "# a = 1\n",
    "# b = 4"
   ]
  },
  {
   "cell_type": "code",
   "execution_count": 24,
   "id": "9cea3a6c-71b7-4b81-ab16-9196b67d180f",
   "metadata": {},
   "outputs": [],
   "source": [
    "a,b = 1,4"
   ]
  },
  {
   "cell_type": "code",
   "execution_count": 25,
   "id": "17e643e5-e37d-42eb-a6a6-32e11c3ae1aa",
   "metadata": {},
   "outputs": [],
   "source": [
    "def test4():\n",
    "    a = 5 + 6/7\n",
    "    return a"
   ]
  },
  {
   "cell_type": "code",
   "execution_count": 26,
   "id": "dc32d45b-b06a-4555-8fb6-a604389cf94a",
   "metadata": {},
   "outputs": [
    {
     "data": {
      "text/plain": [
       "5.857142857142857"
      ]
     },
     "execution_count": 26,
     "metadata": {},
     "output_type": "execute_result"
    }
   ],
   "source": [
    "test4()"
   ]
  },
  {
   "cell_type": "code",
   "execution_count": 28,
   "id": "17d6ff3b-bd7d-40e0-8f67-ecaa0193b37b",
   "metadata": {},
   "outputs": [],
   "source": [
    "def test5(a,b,c):\n",
    "    d = a+b / c\n",
    "    return d"
   ]
  },
  {
   "cell_type": "code",
   "execution_count": 29,
   "id": "21cec51f-8c35-4b9b-ab4a-6b2b4e907069",
   "metadata": {},
   "outputs": [
    {
     "data": {
      "text/plain": [
       "2.625"
      ]
     },
     "execution_count": 29,
     "metadata": {},
     "output_type": "execute_result"
    }
   ],
   "source": [
    "test5(2,5,8)"
   ]
  },
  {
   "cell_type": "code",
   "execution_count": 30,
   "id": "a0bcd291-a8cb-4ed6-9d10-3c7fd338e9c5",
   "metadata": {},
   "outputs": [],
   "source": [
    "def test6(a,b):\n",
    "    return a + b"
   ]
  },
  {
   "cell_type": "code",
   "execution_count": 31,
   "id": "5663a94c-5ebf-4da8-97d6-773a8df714ba",
   "metadata": {},
   "outputs": [
    {
     "data": {
      "text/plain": [
       "15"
      ]
     },
     "execution_count": 31,
     "metadata": {},
     "output_type": "execute_result"
    }
   ],
   "source": [
    "test6(5,10)"
   ]
  },
  {
   "cell_type": "code",
   "execution_count": 33,
   "id": "3999a8a3-f308-4cde-ab46-97b44d9dd7c0",
   "metadata": {},
   "outputs": [
    {
     "data": {
      "text/plain": [
       "'soumen das'"
      ]
     },
     "execution_count": 33,
     "metadata": {},
     "output_type": "execute_result"
    }
   ],
   "source": [
    "test6(\"soumen\", \" das\")"
   ]
  },
  {
   "cell_type": "code",
   "execution_count": 41,
   "id": "8ac2a61a-04fa-45e9-a5f2-2c28c386adbd",
   "metadata": {},
   "outputs": [
    {
     "data": {
      "text/plain": [
       "[1, 2, 3, 4, 5, 6, 7, 8, 9, 10]"
      ]
     },
     "execution_count": 41,
     "metadata": {},
     "output_type": "execute_result"
    }
   ],
   "source": [
    "test6([1,2,3,4,5], [6,7,8,9,10])"
   ]
  },
  {
   "cell_type": "code",
   "execution_count": 42,
   "id": "90383fc5-5c75-4183-9237-c32f9459bd60",
   "metadata": {},
   "outputs": [],
   "source": [
    "l = [1,2,3,4, \"soumen\", \"das\", [1,2,3,4,5,6]]"
   ]
  },
  {
   "cell_type": "code",
   "execution_count": 43,
   "id": "0c50a699-dab8-445d-a543-823b70aca458",
   "metadata": {},
   "outputs": [],
   "source": [
    "l1 = []\n",
    "for i in l:\n",
    "    if type(i) == int or type(i) == float:\n",
    "        l1.append(i)"
   ]
  },
  {
   "cell_type": "code",
   "execution_count": 44,
   "id": "ef978106-7aac-409d-bd99-208fcc50bf4f",
   "metadata": {},
   "outputs": [
    {
     "data": {
      "text/plain": [
       "[1, 2, 3, 4]"
      ]
     },
     "execution_count": 44,
     "metadata": {},
     "output_type": "execute_result"
    }
   ],
   "source": [
    "l1"
   ]
  },
  {
   "cell_type": "code",
   "execution_count": 45,
   "id": "8b3690b6-a025-4708-999a-2a0ec7015bc7",
   "metadata": {},
   "outputs": [],
   "source": [
    "#using function print the integer value"
   ]
  },
  {
   "cell_type": "code",
   "execution_count": 46,
   "id": "aba65d5e-3d68-4c23-8373-40a8b61c5fb1",
   "metadata": {},
   "outputs": [],
   "source": [
    "def test7 (l):\n",
    "    l1 = []\n",
    "    for i in l:\n",
    "        if type(i) == int or type(i) == float:\n",
    "            l1.append(i)\n",
    "    return l1"
   ]
  },
  {
   "cell_type": "code",
   "execution_count": 47,
   "id": "3b4d8d3b-8a29-4396-ba9a-88b30d9d3f7e",
   "metadata": {},
   "outputs": [
    {
     "data": {
      "text/plain": [
       "[1, 2, 3, 4]"
      ]
     },
     "execution_count": 47,
     "metadata": {},
     "output_type": "execute_result"
    }
   ],
   "source": [
    "test7(l)"
   ]
  },
  {
   "cell_type": "code",
   "execution_count": 48,
   "id": "a9bd5841-0e1c-4a07-a1a6-156d14bb7fc2",
   "metadata": {},
   "outputs": [
    {
     "data": {
      "text/plain": [
       "[1, 2, 3, 4]"
      ]
     },
     "execution_count": 48,
     "metadata": {},
     "output_type": "execute_result"
    }
   ],
   "source": [
    "l1"
   ]
  },
  {
   "cell_type": "code",
   "execution_count": 50,
   "id": "c2afd074-3024-4ffb-8084-8e131e4b00f1",
   "metadata": {},
   "outputs": [],
   "source": [
    "def test8(a):\n",
    "    l = []\n",
    "    for i in a:\n",
    "        if type(i) == list:\n",
    "            for j in i:\n",
    "                l.append(j)\n",
    "        else :\n",
    "            if type (i) == int or type (i) == float:\n",
    "                l.append(i)\n",
    "    return l"
   ]
  },
  {
   "cell_type": "code",
   "execution_count": 51,
   "id": "0ad9c834-82a0-4e8c-a150-0db54f74f799",
   "metadata": {},
   "outputs": [
    {
     "data": {
      "text/plain": [
       "[1, 2, 3, 4, 1, 2, 3, 4, 5, 6]"
      ]
     },
     "execution_count": 51,
     "metadata": {},
     "output_type": "execute_result"
    }
   ],
   "source": [
    "test8(l)"
   ]
  },
  {
   "cell_type": "code",
   "execution_count": 52,
   "id": "fc8b5b4a-576e-422f-a52b-33867e9c9505",
   "metadata": {},
   "outputs": [],
   "source": [
    "def test8(a):\n",
    "    \"\"\"this is my function to extract num data from list\"\"\"\n",
    "    \n",
    "    l = []\n",
    "    for i in a:\n",
    "        if type(i) == list:\n",
    "            for j in i:\n",
    "                l.append(j)\n",
    "        else :\n",
    "            if type (i) == int or type (i) == float:\n",
    "                l.append(i)\n",
    "    return l"
   ]
  },
  {
   "cell_type": "code",
   "execution_count": 53,
   "id": "517ea964-7ca8-408c-92c0-bdcf0446d2bf",
   "metadata": {},
   "outputs": [],
   "source": [
    "test()"
   ]
  },
  {
   "cell_type": "code",
   "execution_count": 54,
   "id": "7aa3feeb-ff37-48ed-8c8b-c5d64544a9b6",
   "metadata": {},
   "outputs": [],
   "source": [
    "def test11(*arga):\n",
    "    return arga"
   ]
  },
  {
   "cell_type": "code",
   "execution_count": 55,
   "id": "dfe13507-6ac5-444a-9b1a-aa8f5bdba864",
   "metadata": {},
   "outputs": [
    {
     "data": {
      "text/plain": [
       "()"
      ]
     },
     "execution_count": 55,
     "metadata": {},
     "output_type": "execute_result"
    }
   ],
   "source": [
    "test11()"
   ]
  },
  {
   "cell_type": "code",
   "execution_count": 56,
   "id": "dde69caa-4390-4388-a982-5e49b2e1b91a",
   "metadata": {},
   "outputs": [
    {
     "data": {
      "text/plain": [
       "tuple"
      ]
     },
     "execution_count": 56,
     "metadata": {},
     "output_type": "execute_result"
    }
   ],
   "source": [
    "type (test11())"
   ]
  },
  {
   "cell_type": "code",
   "execution_count": 57,
   "id": "94d6b160-2f1a-450b-af21-140b7a13c0fb",
   "metadata": {},
   "outputs": [
    {
     "data": {
      "text/plain": [
       "(1, 2, 3, 'soumen', 'pwskills', [1, 2, 3, 4, 4])"
      ]
     },
     "execution_count": 57,
     "metadata": {},
     "output_type": "execute_result"
    }
   ],
   "source": [
    "test11 (1,2,3,\"soumen\",\"pwskills\",[1,2,3,4,4])"
   ]
  },
  {
   "cell_type": "code",
   "execution_count": 58,
   "id": "8cd5e098-2c46-4a4e-80f3-036129c0611d",
   "metadata": {},
   "outputs": [],
   "source": [
    "def test12(*soumen):\n",
    "    return soumen"
   ]
  },
  {
   "cell_type": "code",
   "execution_count": 59,
   "id": "a5efc8ad-44f8-465e-85ab-6a7efb7fa4d1",
   "metadata": {},
   "outputs": [
    {
     "data": {
      "text/plain": [
       "(1, 2, 3, 4, 'soumen', 'das')"
      ]
     },
     "execution_count": 59,
     "metadata": {},
     "output_type": "execute_result"
    }
   ],
   "source": [
    "test12(1,2,3,4,\"soumen\",\"das\")"
   ]
  },
  {
   "cell_type": "code",
   "execution_count": 60,
   "id": "11b13807-0ac0-41f9-8d5d-ff4858416435",
   "metadata": {},
   "outputs": [],
   "source": [
    "def test13(*args, a):\n",
    "    return arga, a"
   ]
  },
  {
   "cell_type": "code",
   "execution_count": 61,
   "id": "9f553e60-3ba6-4c08-9a75-1e2bacff49d4",
   "metadata": {},
   "outputs": [
    {
     "ename": "TypeError",
     "evalue": "test13() missing 1 required keyword-only argument: 'a'",
     "output_type": "error",
     "traceback": [
      "\u001b[0;31m---------------------------------------------------------------------------\u001b[0m",
      "\u001b[0;31mTypeError\u001b[0m                                 Traceback (most recent call last)",
      "Cell \u001b[0;32mIn[61], line 1\u001b[0m\n\u001b[0;32m----> 1\u001b[0m \u001b[43mtest13\u001b[49m\u001b[43m(\u001b[49m\u001b[38;5;241;43m1\u001b[39;49m\u001b[43m,\u001b[49m\u001b[38;5;241;43m2\u001b[39;49m\u001b[43m,\u001b[49m\u001b[38;5;241;43m3\u001b[39;49m\u001b[43m,\u001b[49m\u001b[38;5;241;43m4\u001b[39;49m\u001b[43m)\u001b[49m\n",
      "\u001b[0;31mTypeError\u001b[0m: test13() missing 1 required keyword-only argument: 'a'"
     ]
    }
   ],
   "source": [
    "test13(1,2,3,4)"
   ]
  },
  {
   "cell_type": "code",
   "execution_count": 62,
   "id": "2b6b199e-f8ea-4e37-a075-c8522c5a76cb",
   "metadata": {},
   "outputs": [],
   "source": [
    "def test13 (*args, a):\n",
    "    return args,a"
   ]
  },
  {
   "cell_type": "code",
   "execution_count": 65,
   "id": "cb8e990f-de7e-4b60-9308-706475786e17",
   "metadata": {},
   "outputs": [
    {
     "data": {
      "text/plain": [
       "((1, 2, 3), 23)"
      ]
     },
     "execution_count": 65,
     "metadata": {},
     "output_type": "execute_result"
    }
   ],
   "source": [
    "test13 (1,2,3, a = 23)"
   ]
  },
  {
   "cell_type": "code",
   "execution_count": 68,
   "id": "bdb5eb44-58fb-4056-88f2-335671f0fdee",
   "metadata": {},
   "outputs": [
    {
     "ename": "SyntaxError",
     "evalue": "non-default argument follows default argument (882450239.py, line 1)",
     "output_type": "error",
     "traceback": [
      "\u001b[0;36m  Cell \u001b[0;32mIn[68], line 1\u001b[0;36m\u001b[0m\n\u001b[0;31m    def test14 (a=85,b=69, c,d):\u001b[0m\n\u001b[0m                           ^\u001b[0m\n\u001b[0;31mSyntaxError\u001b[0m\u001b[0;31m:\u001b[0m non-default argument follows default argument\n"
     ]
    }
   ],
   "source": [
    "def test14 (a=85,b=69, c,d):\n",
    "    return a,b,c,d"
   ]
  },
  {
   "cell_type": "code",
   "execution_count": 69,
   "id": "073900b9-9b71-4e43-b54a-8ce6c53e5523",
   "metadata": {},
   "outputs": [],
   "source": [
    "def test14 (c,d,a=23,b=1):\n",
    "    return a,b,c,d"
   ]
  },
  {
   "cell_type": "code",
   "execution_count": 70,
   "id": "778256d3-8593-42e0-9023-663e0ccce157",
   "metadata": {},
   "outputs": [
    {
     "data": {
      "text/plain": [
       "(23, 1, 3, 4)"
      ]
     },
     "execution_count": 70,
     "metadata": {},
     "output_type": "execute_result"
    }
   ],
   "source": [
    "test14(3,4)"
   ]
  },
  {
   "cell_type": "code",
   "execution_count": 71,
   "id": "f795060f-f166-461c-ab72-f5816d43b489",
   "metadata": {},
   "outputs": [],
   "source": [
    "#change the value of a"
   ]
  },
  {
   "cell_type": "code",
   "execution_count": 72,
   "id": "1a7558f5-485f-4ef4-be0f-c5b284b69b45",
   "metadata": {},
   "outputs": [],
   "source": [
    "def test14 (c,d,a=23,b=1):\n",
    "    return a,b,c,d"
   ]
  },
  {
   "cell_type": "code",
   "execution_count": 73,
   "id": "2d7234b5-dab5-4f85-b8b7-43763c90ab74",
   "metadata": {},
   "outputs": [
    {
     "data": {
      "text/plain": [
       "(24, 1, 3, 4)"
      ]
     },
     "execution_count": 73,
     "metadata": {},
     "output_type": "execute_result"
    }
   ],
   "source": [
    "test14(3,4,a=24)"
   ]
  },
  {
   "cell_type": "code",
   "execution_count": 74,
   "id": "201124a7-3a55-46c2-b1ba-f485d5036f2d",
   "metadata": {},
   "outputs": [],
   "source": [
    "#we need value as a key : value format(**)"
   ]
  },
  {
   "cell_type": "code",
   "execution_count": 75,
   "id": "f403ac11-f3c8-446e-aed7-0ba7fd29c031",
   "metadata": {},
   "outputs": [],
   "source": [
    "def test15(**kwargs):\n",
    "    return kwargs"
   ]
  },
  {
   "cell_type": "code",
   "execution_count": 76,
   "id": "bbedbca4-f0df-45a0-b82b-4710f4c0780f",
   "metadata": {},
   "outputs": [
    {
     "data": {
      "text/plain": [
       "{}"
      ]
     },
     "execution_count": 76,
     "metadata": {},
     "output_type": "execute_result"
    }
   ],
   "source": [
    "test15()"
   ]
  },
  {
   "cell_type": "code",
   "execution_count": 77,
   "id": "9b8e2e88-6237-41e6-b7f0-f9b05b4bf005",
   "metadata": {},
   "outputs": [
    {
     "data": {
      "text/plain": [
       "dict"
      ]
     },
     "execution_count": 77,
     "metadata": {},
     "output_type": "execute_result"
    }
   ],
   "source": [
    "type(test15())"
   ]
  },
  {
   "cell_type": "code",
   "execution_count": 78,
   "id": "63578f6e-2a2d-46e1-87d9-258563da2d6a",
   "metadata": {},
   "outputs": [
    {
     "data": {
      "text/plain": [
       "{'a': [1, 2, 3, 4], 'b': 'soumen', 'c': 23.45}"
      ]
     },
     "execution_count": 78,
     "metadata": {},
     "output_type": "execute_result"
    }
   ],
   "source": [
    "test15(a=[1,2,3,4], b = \"soumen\", c = 23.45)"
   ]
  },
  {
   "cell_type": "code",
   "execution_count": 79,
   "id": "97da9e14-09c4-47d1-bcb7-015af4507121",
   "metadata": {},
   "outputs": [],
   "source": [
    "#Generator functions"
   ]
  },
  {
   "cell_type": "code",
   "execution_count": 80,
   "id": "ccb7bde8-eaea-421f-ad2d-bf32de536a81",
   "metadata": {},
   "outputs": [],
   "source": [
    "#print the fibonacci series"
   ]
  },
  {
   "cell_type": "code",
   "execution_count": 83,
   "id": "f574b559-09ac-4236-8d1f-306dee876114",
   "metadata": {},
   "outputs": [],
   "source": [
    "def test_fib (n):\n",
    "    a,b=0,1\n",
    "    for i in range(n):\n",
    "        yield a\n",
    "        a,b = b, a+b"
   ]
  },
  {
   "cell_type": "code",
   "execution_count": 88,
   "id": "a24ef5d1-2a62-4235-80da-192eec3d343a",
   "metadata": {},
   "outputs": [
    {
     "name": "stdout",
     "output_type": "stream",
     "text": [
      "0\n",
      "1\n",
      "1\n",
      "2\n",
      "3\n",
      "5\n",
      "8\n",
      "13\n",
      "21\n",
      "34\n"
     ]
    }
   ],
   "source": [
    "for i in test_fib (10):\n",
    "    print (i)"
   ]
  },
  {
   "cell_type": "code",
   "execution_count": 89,
   "id": "69c03dc6-9020-45d3-b801-4f6d55375c3d",
   "metadata": {},
   "outputs": [],
   "source": [
    "#print fibonacci series using while loop"
   ]
  },
  {
   "cell_type": "code",
   "execution_count": 91,
   "id": "463151d0-061e-4a49-889c-aa4d42d7a782",
   "metadata": {},
   "outputs": [],
   "source": [
    "def test_fib ():\n",
    "    a,b = 0,1\n",
    "    while True:\n",
    "        yield a\n",
    "        a,b = b,a+b"
   ]
  },
  {
   "cell_type": "code",
   "execution_count": 92,
   "id": "ed4ba7c5-f281-478a-84a7-34cec1e0f10c",
   "metadata": {},
   "outputs": [],
   "source": [
    "fib = test_fib()"
   ]
  },
  {
   "cell_type": "code",
   "execution_count": 93,
   "id": "3ddc8dfb-870e-48a8-ab5d-bda67286269e",
   "metadata": {},
   "outputs": [
    {
     "name": "stdout",
     "output_type": "stream",
     "text": [
      "0\n",
      "1\n",
      "1\n",
      "2\n",
      "3\n",
      "5\n",
      "8\n",
      "13\n",
      "21\n",
      "34\n"
     ]
    }
   ],
   "source": [
    "for i in range (10):\n",
    "    print (next(fib))"
   ]
  },
  {
   "cell_type": "code",
   "execution_count": 94,
   "id": "251bb4a5-63f5-49b9-86a6-2db0cdda9765",
   "metadata": {},
   "outputs": [],
   "source": [
    "s = \"soumen\""
   ]
  },
  {
   "cell_type": "code",
   "execution_count": 95,
   "id": "a131196b-a278-4a54-a29b-22711ad8b983",
   "metadata": {},
   "outputs": [
    {
     "ename": "TypeError",
     "evalue": "'str' object is not an iterator",
     "output_type": "error",
     "traceback": [
      "\u001b[0;31m---------------------------------------------------------------------------\u001b[0m",
      "\u001b[0;31mTypeError\u001b[0m                                 Traceback (most recent call last)",
      "Cell \u001b[0;32mIn[95], line 1\u001b[0m\n\u001b[0;32m----> 1\u001b[0m \u001b[38;5;28;43mnext\u001b[39;49m\u001b[43m(\u001b[49m\u001b[43ms\u001b[49m\u001b[43m)\u001b[49m\n",
      "\u001b[0;31mTypeError\u001b[0m: 'str' object is not an iterator"
     ]
    }
   ],
   "source": [
    "next(s)"
   ]
  },
  {
   "cell_type": "code",
   "execution_count": 96,
   "id": "88efa635-55c3-4803-9562-e9ed67dc563d",
   "metadata": {},
   "outputs": [],
   "source": [
    "s1 = iter(s)"
   ]
  },
  {
   "cell_type": "code",
   "execution_count": 97,
   "id": "e465feee-d50f-4717-912e-953ca13365ed",
   "metadata": {},
   "outputs": [
    {
     "data": {
      "text/plain": [
       "'s'"
      ]
     },
     "execution_count": 97,
     "metadata": {},
     "output_type": "execute_result"
    }
   ],
   "source": [
    "next (s1)"
   ]
  },
  {
   "cell_type": "code",
   "execution_count": 98,
   "id": "74cff1fa-9876-443d-ae2c-eef8ea22d2db",
   "metadata": {},
   "outputs": [
    {
     "data": {
      "text/plain": [
       "'o'"
      ]
     },
     "execution_count": 98,
     "metadata": {},
     "output_type": "execute_result"
    }
   ],
   "source": [
    "next (s1)"
   ]
  },
  {
   "cell_type": "code",
   "execution_count": 100,
   "id": "0da4c140-3a48-49c3-aca1-e574b58da30b",
   "metadata": {},
   "outputs": [
    {
     "data": {
      "text/plain": [
       "'u'"
      ]
     },
     "execution_count": 100,
     "metadata": {},
     "output_type": "execute_result"
    }
   ],
   "source": [
    "next (s1)"
   ]
  },
  {
   "cell_type": "code",
   "execution_count": 101,
   "id": "493891b1-a08f-431d-8320-009900c20272",
   "metadata": {},
   "outputs": [
    {
     "data": {
      "text/plain": [
       "'m'"
      ]
     },
     "execution_count": 101,
     "metadata": {},
     "output_type": "execute_result"
    }
   ],
   "source": [
    "next (s1)"
   ]
  },
  {
   "cell_type": "code",
   "execution_count": 102,
   "id": "9ad92a4b-94d1-45c4-a80f-b347738c24b0",
   "metadata": {},
   "outputs": [
    {
     "data": {
      "text/plain": [
       "'e'"
      ]
     },
     "execution_count": 102,
     "metadata": {},
     "output_type": "execute_result"
    }
   ],
   "source": [
    "next (s1)"
   ]
  },
  {
   "cell_type": "code",
   "execution_count": 103,
   "id": "074b2ec1-10d4-47b9-97e0-50b03ea961d7",
   "metadata": {},
   "outputs": [
    {
     "data": {
      "text/plain": [
       "'n'"
      ]
     },
     "execution_count": 103,
     "metadata": {},
     "output_type": "execute_result"
    }
   ],
   "source": [
    "next (s1)"
   ]
  },
  {
   "cell_type": "code",
   "execution_count": 104,
   "id": "a964a379-42c6-4325-b973-c9c6ae00b31b",
   "metadata": {},
   "outputs": [
    {
     "data": {
      "text/plain": [
       "str_iterator"
      ]
     },
     "execution_count": 104,
     "metadata": {},
     "output_type": "execute_result"
    }
   ],
   "source": [
    "type (s1)"
   ]
  },
  {
   "cell_type": "code",
   "execution_count": 105,
   "id": "061501de-458f-42b0-879c-b75c81a3af1e",
   "metadata": {},
   "outputs": [
    {
     "ename": "TypeError",
     "evalue": "'int' object is not iterable",
     "output_type": "error",
     "traceback": [
      "\u001b[0;31m---------------------------------------------------------------------------\u001b[0m",
      "\u001b[0;31mTypeError\u001b[0m                                 Traceback (most recent call last)",
      "Cell \u001b[0;32mIn[105], line 1\u001b[0m\n\u001b[0;32m----> 1\u001b[0m \u001b[38;5;28;43miter\u001b[39;49m\u001b[43m \u001b[49m\u001b[43m(\u001b[49m\u001b[38;5;241;43m45\u001b[39;49m\u001b[43m)\u001b[49m\n",
      "\u001b[0;31mTypeError\u001b[0m: 'int' object is not iterable"
     ]
    }
   ],
   "source": [
    "iter (45)"
   ]
  },
  {
   "cell_type": "code",
   "execution_count": 106,
   "id": "e8d9ba98-1c46-47f8-a837-bc3659093d91",
   "metadata": {},
   "outputs": [],
   "source": [
    "def count_test(n):\n",
    "    count = 1\n",
    "    while count < n:\n",
    "        yield count\n",
    "        count = count + 1"
   ]
  },
  {
   "cell_type": "code",
   "execution_count": 107,
   "id": "3c22333f-4983-4e49-8afe-08ac8f88f12a",
   "metadata": {},
   "outputs": [],
   "source": [
    "c = count_test (5)"
   ]
  },
  {
   "cell_type": "code",
   "execution_count": 114,
   "id": "56fadc5a-0943-40c2-9887-4581841a7c32",
   "metadata": {},
   "outputs": [],
   "source": [
    "for i in c:\n",
    "    print (c)"
   ]
  },
  {
   "cell_type": "code",
   "execution_count": 115,
   "id": "5c2e1861-0073-44c7-b4e6-0cd1712a8657",
   "metadata": {},
   "outputs": [
    {
     "data": {
      "text/plain": [
       "generator"
      ]
     },
     "execution_count": 115,
     "metadata": {},
     "output_type": "execute_result"
    }
   ],
   "source": [
    "type (c)"
   ]
  },
  {
   "cell_type": "code",
   "execution_count": 116,
   "id": "c01109a9-4c2e-4b76-9527-365354220f26",
   "metadata": {},
   "outputs": [],
   "source": [
    "# lambda functions"
   ]
  },
  {
   "cell_type": "code",
   "execution_count": 117,
   "id": "a80c97fb-061f-476d-aa66-e8de4ecd585f",
   "metadata": {},
   "outputs": [],
   "source": [
    "# print n^p using python"
   ]
  },
  {
   "cell_type": "code",
   "execution_count": 118,
   "id": "bbaafb0d-9242-4815-9704-53bbf944f832",
   "metadata": {},
   "outputs": [],
   "source": [
    "n = 3\n",
    "p = 2"
   ]
  },
  {
   "cell_type": "code",
   "execution_count": 119,
   "id": "f890b0d4-1c88-47b5-a57d-0c2b758b0375",
   "metadata": {},
   "outputs": [],
   "source": [
    "def test (n,p):\n",
    "    return n**p"
   ]
  },
  {
   "cell_type": "code",
   "execution_count": 120,
   "id": "dadf3830-a9b1-4e35-87fa-33da3a56bb9c",
   "metadata": {},
   "outputs": [
    {
     "data": {
      "text/plain": [
       "9"
      ]
     },
     "execution_count": 120,
     "metadata": {},
     "output_type": "execute_result"
    }
   ],
   "source": [
    "test (3,2)"
   ]
  },
  {
   "cell_type": "code",
   "execution_count": 121,
   "id": "31b069ff-0281-4bf1-9ca7-383041f6d8e9",
   "metadata": {},
   "outputs": [],
   "source": [
    "# print n^p using lambda function"
   ]
  },
  {
   "cell_type": "code",
   "execution_count": 122,
   "id": "d5555a19-11a0-401a-9127-c13038312600",
   "metadata": {},
   "outputs": [],
   "source": [
    "a = lambda n,p : n**p"
   ]
  },
  {
   "cell_type": "code",
   "execution_count": 123,
   "id": "d6a5bd21-918d-4a04-8d8c-052c059e7772",
   "metadata": {},
   "outputs": [
    {
     "data": {
      "text/plain": [
       "25"
      ]
     },
     "execution_count": 123,
     "metadata": {},
     "output_type": "execute_result"
    }
   ],
   "source": [
    "a (5,2)"
   ]
  },
  {
   "cell_type": "code",
   "execution_count": 124,
   "id": "5f0e29b2-c5fb-4fcd-a7be-858260cf78fa",
   "metadata": {},
   "outputs": [],
   "source": [
    "# add two number"
   ]
  },
  {
   "cell_type": "code",
   "execution_count": 125,
   "id": "9b0143f0-15a5-4ccb-af65-db62a8a448fb",
   "metadata": {},
   "outputs": [],
   "source": [
    "b = lambda x,y : x+y"
   ]
  },
  {
   "cell_type": "code",
   "execution_count": 126,
   "id": "e4762a80-177a-4187-809c-2fff5119a2b4",
   "metadata": {},
   "outputs": [
    {
     "data": {
      "text/plain": [
       "5"
      ]
     },
     "execution_count": 126,
     "metadata": {},
     "output_type": "execute_result"
    }
   ],
   "source": [
    "b (2,3)"
   ]
  },
  {
   "cell_type": "code",
   "execution_count": 127,
   "id": "f789145e-96e7-40ed-b1e0-1bfcd989b6d9",
   "metadata": {},
   "outputs": [],
   "source": [
    "# centigrade to farenheit"
   ]
  },
  {
   "cell_type": "code",
   "execution_count": 128,
   "id": "d6340563-85bb-4045-abcd-6318a6d4cc8d",
   "metadata": {},
   "outputs": [],
   "source": [
    "c_to_f = lambda c : (9/5)*c + 32"
   ]
  },
  {
   "cell_type": "code",
   "execution_count": 129,
   "id": "78ea9319-7f47-453b-956c-1d3c6e5f8861",
   "metadata": {},
   "outputs": [
    {
     "data": {
      "text/plain": [
       "113.0"
      ]
     },
     "execution_count": 129,
     "metadata": {},
     "output_type": "execute_result"
    }
   ],
   "source": [
    "c_to_f (45)"
   ]
  },
  {
   "cell_type": "code",
   "execution_count": 130,
   "id": "de593eab-b7f9-4698-ad10-2656a8d251b0",
   "metadata": {},
   "outputs": [],
   "source": [
    "#finding a maximum of two numbers using lambda function"
   ]
  },
  {
   "cell_type": "code",
   "execution_count": 131,
   "id": "17f55b6f-43bc-4ab5-a448-837dee09fad8",
   "metadata": {},
   "outputs": [],
   "source": [
    "finding_max = lambda x,y : x if x>y else y"
   ]
  },
  {
   "cell_type": "code",
   "execution_count": 132,
   "id": "bcc1b373-c9ff-4361-873f-51a1c64673b8",
   "metadata": {},
   "outputs": [
    {
     "data": {
      "text/plain": [
       "100"
      ]
     },
     "execution_count": 132,
     "metadata": {},
     "output_type": "execute_result"
    }
   ],
   "source": [
    "finding_max (89,100)"
   ]
  },
  {
   "cell_type": "code",
   "execution_count": 133,
   "id": "80fd6633-a9f7-48de-b1b0-5aa196ed35ba",
   "metadata": {},
   "outputs": [],
   "source": [
    "s = \"pwskills\""
   ]
  },
  {
   "cell_type": "code",
   "execution_count": 134,
   "id": "ed669071-4242-4e43-8ec7-05a3d4d2b77b",
   "metadata": {},
   "outputs": [],
   "source": [
    "find_len = lambda s : len(s)"
   ]
  },
  {
   "cell_type": "code",
   "execution_count": 135,
   "id": "de1868a1-3810-462b-a9e4-67b6a3ddfd9f",
   "metadata": {},
   "outputs": [
    {
     "data": {
      "text/plain": [
       "8"
      ]
     },
     "execution_count": 135,
     "metadata": {},
     "output_type": "execute_result"
    }
   ],
   "source": [
    "find_len (s)"
   ]
  },
  {
   "cell_type": "code",
   "execution_count": 136,
   "id": "ff93eae4-e5c8-4eed-bc69-b46da10bfadf",
   "metadata": {},
   "outputs": [],
   "source": [
    "#map, reduce and filters functions"
   ]
  },
  {
   "cell_type": "code",
   "execution_count": 137,
   "id": "93390f68-6ca2-4224-ba40-0791355d1a63",
   "metadata": {},
   "outputs": [],
   "source": [
    "l = [2, 3, 4, 5, 6]"
   ]
  },
  {
   "cell_type": "code",
   "execution_count": 139,
   "id": "f82b9835-e450-402c-ad37-1ae6c030c687",
   "metadata": {},
   "outputs": [],
   "source": [
    "def test (l):\n",
    "    l1 = []\n",
    "    for i in l:\n",
    "        l1.append(i**2)\n",
    "    return l1"
   ]
  },
  {
   "cell_type": "code",
   "execution_count": 140,
   "id": "efb1afb0-1fc0-41c3-9eef-f9eba0ebe7bb",
   "metadata": {},
   "outputs": [
    {
     "data": {
      "text/plain": [
       "[4, 9, 16, 25, 36]"
      ]
     },
     "execution_count": 140,
     "metadata": {},
     "output_type": "execute_result"
    }
   ],
   "source": [
    "test (l)"
   ]
  },
  {
   "cell_type": "code",
   "execution_count": 141,
   "id": "ea3b9aed-5d91-4e65-bc02-08714adbdb0a",
   "metadata": {},
   "outputs": [],
   "source": [
    "# print square using map() function"
   ]
  },
  {
   "cell_type": "code",
   "execution_count": 142,
   "id": "0025c3a3-1ba9-4fee-9dde-e0f416849e14",
   "metadata": {},
   "outputs": [],
   "source": [
    "def sq(x):\n",
    "    return x**2"
   ]
  },
  {
   "cell_type": "code",
   "execution_count": 143,
   "id": "2bc67c7c-0b64-472f-9056-c2765714d2c9",
   "metadata": {},
   "outputs": [
    {
     "data": {
      "text/plain": [
       "[4, 9, 16, 25, 36]"
      ]
     },
     "execution_count": 143,
     "metadata": {},
     "output_type": "execute_result"
    }
   ],
   "source": [
    "list (map (sq,l))"
   ]
  },
  {
   "cell_type": "code",
   "execution_count": 144,
   "id": "6ede2d28-ccdc-4346-9530-04ff720c7ff7",
   "metadata": {},
   "outputs": [
    {
     "data": {
      "text/plain": [
       "[4, 9, 16, 25, 36]"
      ]
     },
     "execution_count": 144,
     "metadata": {},
     "output_type": "execute_result"
    }
   ],
   "source": [
    "list(map(lambda x : x**2,l))"
   ]
  },
  {
   "cell_type": "code",
   "execution_count": 148,
   "id": "8584d740-f38f-4f69-886b-8e63d64a9970",
   "metadata": {},
   "outputs": [],
   "source": [
    "# add l1 and l2 list elements in a index wise"
   ]
  },
  {
   "cell_type": "code",
   "execution_count": 150,
   "id": "37c24dc4-5b70-4b24-a4ab-aaf0941b7500",
   "metadata": {},
   "outputs": [
    {
     "data": {
      "text/plain": [
       "[7, 9, 11, 13, 15]"
      ]
     },
     "execution_count": 150,
     "metadata": {},
     "output_type": "execute_result"
    }
   ],
   "source": [
    "l1 = [1,2,3,4,5]\n",
    "l2 = [6,7,8,9,10]\n",
    "list (map(lambda x,y : x+y,l1,l2))"
   ]
  },
  {
   "cell_type": "code",
   "execution_count": 151,
   "id": "76c010f6-f6f9-4dc4-8db2-b0ad7665aeda",
   "metadata": {},
   "outputs": [],
   "source": [
    "# using lambda and map function print UPPER value"
   ]
  },
  {
   "cell_type": "code",
   "execution_count": 153,
   "id": "b479c2a6-8092-4e8b-8f57-94ea243574b6",
   "metadata": {},
   "outputs": [
    {
     "data": {
      "text/plain": [
       "['P', 'W', 'S', 'K', 'I', 'L', 'L', 'S']"
      ]
     },
     "execution_count": 153,
     "metadata": {},
     "output_type": "execute_result"
    }
   ],
   "source": [
    "s = \"pwskills\"\n",
    "list(map(lambda s : s.upper(),s))"
   ]
  },
  {
   "cell_type": "code",
   "execution_count": 154,
   "id": "0cfa8502-b345-4afa-b5f2-16189737affd",
   "metadata": {},
   "outputs": [],
   "source": [
    "t = (1,2,3,4,5,6)"
   ]
  },
  {
   "cell_type": "code",
   "execution_count": 155,
   "id": "800d09ab-a97f-4345-bbc3-824bb311c079",
   "metadata": {},
   "outputs": [
    {
     "data": {
      "text/plain": [
       "[1, 2, 3, 4, 5, 6]"
      ]
     },
     "execution_count": 155,
     "metadata": {},
     "output_type": "execute_result"
    }
   ],
   "source": [
    "list (t)"
   ]
  },
  {
   "cell_type": "code",
   "execution_count": 156,
   "id": "d712d345-e996-41a3-89e5-24bb2ce78ba1",
   "metadata": {},
   "outputs": [],
   "source": [
    "# add l1 and l2 list elements using external function"
   ]
  },
  {
   "cell_type": "code",
   "execution_count": 157,
   "id": "458737da-9924-426d-b928-70c1e46218c5",
   "metadata": {},
   "outputs": [],
   "source": [
    "def add (x,y):\n",
    "    return x+y"
   ]
  },
  {
   "cell_type": "code",
   "execution_count": 158,
   "id": "506ad1b2-3aa2-43eb-b263-bb77f91536b0",
   "metadata": {},
   "outputs": [
    {
     "data": {
      "text/plain": [
       "[7, 9, 11, 13, 15]"
      ]
     },
     "execution_count": 158,
     "metadata": {},
     "output_type": "execute_result"
    }
   ],
   "source": [
    "list(map(add,l1,l2))"
   ]
  },
  {
   "cell_type": "code",
   "execution_count": 159,
   "id": "f8409615-bf43-418d-984f-e283b20a4c47",
   "metadata": {},
   "outputs": [],
   "source": [
    "#using reduce function add elements in list"
   ]
  },
  {
   "cell_type": "code",
   "execution_count": 160,
   "id": "bf736c98-1c7c-416a-b04b-8a4a8bf2dd73",
   "metadata": {},
   "outputs": [],
   "source": [
    "from functools import reduce"
   ]
  },
  {
   "cell_type": "code",
   "execution_count": 166,
   "id": "4bb05f06-6363-4dd5-9930-de63c3d3078b",
   "metadata": {},
   "outputs": [],
   "source": [
    "l = [1,2,3,4,5]"
   ]
  },
  {
   "cell_type": "code",
   "execution_count": 167,
   "id": "b08f342b-b9b3-47e2-8337-0d59c1a205d5",
   "metadata": {},
   "outputs": [
    {
     "data": {
      "text/plain": [
       "15"
      ]
     },
     "execution_count": 167,
     "metadata": {},
     "output_type": "execute_result"
    }
   ],
   "source": [
    "reduce(lambda x,y : x+y,l)"
   ]
  },
  {
   "cell_type": "code",
   "execution_count": 168,
   "id": "601bed42-2587-4a3d-bd5e-a39e75449a76",
   "metadata": {},
   "outputs": [
    {
     "data": {
      "text/plain": [
       "15"
      ]
     },
     "execution_count": 168,
     "metadata": {},
     "output_type": "execute_result"
    }
   ],
   "source": [
    "reduce(lambda x,y : x+y,l)"
   ]
  },
  {
   "cell_type": "code",
   "execution_count": null,
   "id": "86ca31e8-c77d-4dfb-b9c2-caf867bf6e57",
   "metadata": {},
   "outputs": [],
   "source": []
  }
 ],
 "metadata": {
  "kernelspec": {
   "display_name": "Python 3 (ipykernel)",
   "language": "python",
   "name": "python3"
  },
  "language_info": {
   "codemirror_mode": {
    "name": "ipython",
    "version": 3
   },
   "file_extension": ".py",
   "mimetype": "text/x-python",
   "name": "python",
   "nbconvert_exporter": "python",
   "pygments_lexer": "ipython3",
   "version": "3.10.8"
  }
 },
 "nbformat": 4,
 "nbformat_minor": 5
}
